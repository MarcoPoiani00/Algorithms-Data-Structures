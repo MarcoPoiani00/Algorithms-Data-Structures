{
 "cells": [
  {
   "cell_type": "markdown",
   "metadata": {},
   "source": [
    "# Lecture 1\n",
    "\n",
    "---\n",
    "### Exercise: Selection Sort\n",
    "Write the function ```SelectionSort(coll)``` that returns a sorted list with the elements in *coll*. \n",
    "You have to implements Selection Sort algorithm."
   ]
  },
  {
   "cell_type": "code",
   "execution_count": 9,
   "metadata": {},
   "outputs": [],
   "source": [
    "# My implementation\n",
    "def SelectionSort(coll):\n",
    "    for i in range(len(coll)):\n",
    "        min_poss = i \n",
    "        for j in range(i+1, len(coll)):\n",
    "            if coll[j] < coll[min_poss]: \n",
    "                min_poss = j \n",
    "                # I may check if min_poss != i and swap only if the condition is true\n",
    "        coll[i], coll[min_poss] = coll[min_poss], coll[i] # swapping the ith element of coll with the ith smallest element\n",
    "    return coll"
   ]
  },
  {
   "cell_type": "code",
   "execution_count": 10,
   "metadata": {},
   "outputs": [
    {
     "name": "stdout",
     "output_type": "stream",
     "text": [
      "Done!\n"
     ]
    }
   ],
   "source": [
    "## Asserts \n",
    "# Test case:\n",
    "assert SelectionSort([]) == []\n",
    "# Test case: Worst case\n",
    "assert SelectionSort([5, 4, 3, 2, 1]) == sorted([5, 4, 3, 2, 1])\n",
    "# Test case:\n",
    "assert SelectionSort([3,1,4,1,5,9,2,6,5,3,5]) == sorted([3,1,4,1,5,9,2,6,5,3,5])\n",
    "print(\"Done!\")"
   ]
  },
  {
   "cell_type": "markdown",
   "metadata": {},
   "source": [
    "----\n",
    "### Exercise: Insertion Sort\n",
    "Write the function ```InsertionSort(coll)``` that returns a sorted list with the elements in *coll*. \n",
    "You have to implements Insertion Sort algorithm."
   ]
  },
  {
   "cell_type": "code",
   "execution_count": 93,
   "metadata": {},
   "outputs": [],
   "source": [
    "## Insertion sort\n",
    "# Worst case when coll is sorted in reverse order. At every iteration, i reaches -1.\n",
    "\n",
    "def InsertionSort(coll):\n",
    "    for j in range(1, len(coll)):\n",
    "        key = coll[j] # I need to store this value for later because coll[j] changes\n",
    "        i = j-1 \n",
    "        while i >= 0 and coll[i] > key: \n",
    "            coll[i+1] = coll[i] # A value is temporarily duplicated; I declared key because here I lose the value of coll[j]\n",
    "            i -= 1\n",
    "        coll[i+1] = key # After the while the element k will be in the correct position\n",
    "    return coll\n",
    "    "
   ]
  },
  {
   "cell_type": "code",
   "execution_count": 94,
   "metadata": {},
   "outputs": [
    {
     "name": "stdout",
     "output_type": "stream",
     "text": [
      "Done!\n"
     ]
    }
   ],
   "source": [
    "## Asserts \n",
    "# Test case:\n",
    "assert InsertionSort([]) == []\n",
    "# Test case: Worst case \n",
    "assert InsertionSort([5, 4, 3, 2, 1]) == sorted([5, 4, 3, 2, 1])\n",
    "# Test case:\n",
    "assert InsertionSort([3,1,1,5,5,5,3]) == sorted(([3,1,1,5,5,5,3]))\n",
    "print(\"Done!\")"
   ]
  },
  {
   "cell_type": "markdown",
   "metadata": {},
   "source": [
    "----\n",
    "### Exercise: Strange orderings\n",
    "Given a list, write and test comparators to obtain the following orderings:\n",
    "- Even number precede odd ones. Even numbers are sorted in non-decreasing  order while odd ones are sorted in non-increasing order.\n",
    "- Strings are sorted in non-increasing order based on their lengths. Strings having the same length are sorted in non-increasing lexicographic order. "
   ]
  },
  {
   "cell_type": "code",
   "execution_count": 19,
   "metadata": {},
   "outputs": [],
   "source": [
    "def cmp1(a, b):\n",
    "    if a % 2 == 0 and b % 2 != 0: return -1 # result <-1 means a must precede b\n",
    "    elif a % 2 != 0 and b % 2 == 0: return 1 # result > 1 means b must precede a\n",
    "    elif a %2 !=0 and b %2 != 0: return b-a # Here both a and b are odd, so to maintain a non-increasing order it returns b-a\n",
    "    else: return a-b # Both a and b are even; it guarantees a non-decreasing order \n",
    "\n",
    "    # If the result is 0, so a == b I don't care\n",
    "\n",
    "def cmp2(a, b):\n",
    "    if len(a) > len(b): return -1 # Longer str's have the precedence\n",
    "    elif len(a) == len(b) and a > b: return -1 # If Str's have the same length, then I take into account non-increasing lexicographic order\n",
    "    else: return 1 \n"
   ]
  },
  {
   "cell_type": "code",
   "execution_count": 20,
   "metadata": {},
   "outputs": [
    {
     "name": "stdout",
     "output_type": "stream",
     "text": [
      "Done!\n"
     ]
    }
   ],
   "source": [
    "import functools\n",
    "## Asserts\n",
    "# Test case: List sorted in non-increasing order\n",
    "assert sorted([10, 8, 7, 5, 4, 2], key=functools.cmp_to_key(cmp1)) == [2, 4, 8, 10, 7, 5]\n",
    "# Test case: Even numbers\n",
    "assert sorted([2, 4, 6, 8, 10], key=functools.cmp_to_key(cmp1)) == [2, 4, 6, 8, 10]\n",
    "# Test case: Odd numbers\n",
    "assert sorted([1, 3, 5, 7, 9], key=functools.cmp_to_key(cmp1)) == [9, 7, 5, 3, 1]\n",
    "\n",
    "## Asserts for cmp 2\n",
    "# Test case: non-increasing lengths\n",
    "assert sorted([\"abcd\", \"abc\", \"ab\", \"a\"], key=functools.cmp_to_key(cmp2)) == [\"abcd\", \"abc\", \"ab\", \"a\"]\n",
    "# Test case: non-decreasing lexicographic order\n",
    "assert sorted([\"abc\", \"abd\", \"abe\"], key=functools.cmp_to_key(cmp2)) == [\"abe\", \"abd\", \"abc\"]\n",
    "print(\"Done!\")"
   ]
  },
  {
   "cell_type": "markdown",
   "metadata": {},
   "source": [
    "-----\n",
    "### Exercise: Insertion Sort with a comparator\n",
    "Write the function ```InsertionSort(coll, cmp)``` that returns a sorted list with the elements in *coll* using \n",
    "```cmp```as a comparator."
   ]
  },
  {
   "cell_type": "code",
   "execution_count": 28,
   "metadata": {},
   "outputs": [],
   "source": [
    "# Like the basic insertion sort but with a personalised cmp \n",
    "def InsertionSort(coll, cmp): \n",
    "    for j in range(1, len(coll)):\n",
    "        key = coll[j]\n",
    "        i = j-1 \n",
    "        while i >= 0 and cmp(coll[i], key) > 0: # It sorts the element according to the order suggested by the comparator\n",
    "            coll[i+1] = coll[i]\n",
    "            i -= 1\n",
    "        coll[i+1] = key\n",
    "    return coll \n"
   ]
  },
  {
   "cell_type": "code",
   "execution_count": 31,
   "metadata": {},
   "outputs": [
    {
     "name": "stdout",
     "output_type": "stream",
     "text": [
      "Done!\n"
     ]
    }
   ],
   "source": [
    "## Asserts\n",
    "# Test case: \n",
    "assert InsertionSort([], cmp1) == []\n",
    "# Test case:\n",
    "assert InsertionSort([3, 1, 4, 5, 9, 6, 5], cmp1) == [4,6,9,5,5,3,1]\n",
    "print(\"Done!\")"
   ]
  },
  {
   "cell_type": "markdown",
   "metadata": {},
   "source": [
    "-----\n",
    "\n",
    "### Exercise: Intersection of two lists\n",
    "Write a function ```intersection_slow(l1, l2)``` which returns the intersection of the two lists l1 and l2.\n",
    "\n",
    "Use the trivial algorithms that runs in $\\Theta(|l1|\\times|l2|)$. "
   ]
  },
  {
   "cell_type": "code",
   "execution_count": 3,
   "metadata": {},
   "outputs": [],
   "source": [
    "## Complexity O(n^2), works with not ordered lists, not in place.\n",
    "def intersection_slow(l1, l2):  \n",
    "    l = [] \n",
    "    for i in l1: \n",
    "        if i in l2:\n",
    "            l.append(i)\n",
    "    return l\n"
   ]
  },
  {
   "cell_type": "code",
   "execution_count": 81,
   "metadata": {},
   "outputs": [
    {
     "name": "stdout",
     "output_type": "stream",
     "text": [
      "Done!\n"
     ]
    }
   ],
   "source": [
    "## Asserts\n",
    "assert set(intersection_slow([3, 5, 1, 2], [1, 4, 6, 2])) == set([1, 2]), \"Urca\"\n",
    "# Test case: no common elements\n",
    "assert set(intersection_slow([1, 3, 5], [2, 4, 6])) == set([])\n",
    "# Test case: lists with duplicate elements\n",
    "assert set(intersection_slow([1, 2, 3, 3, 4], [2, 3, 3, 4, 5])) == set([2, 3, 4])\n",
    "print(\"Done!\")"
   ]
  },
  {
   "cell_type": "markdown",
   "metadata": {},
   "source": [
    "----\n",
    "### Exercise: Faster intersection of two lists\n",
    "Write a function ```intersection(l1, l2)``` which returns the intersection of the two lists l1 and l2.\n",
    "\n",
    "Assume that both l1 and l2 are sorted!"
   ]
  },
  {
   "cell_type": "code",
   "execution_count": 1,
   "metadata": {},
   "outputs": [],
   "source": [
    "# This works iff lists are sorted\n",
    "def intersection(l1, l2): \n",
    "    i, j = 0, 0 # I use these two variables to iterate across the positions of both l1 and l2 respectively\n",
    "    result = []\n",
    "    while i < len(l1) and j < len(l2):\n",
    "        if l1[i] == l2[j]:\n",
    "            result.append(l1[i])\n",
    "            i += 1\n",
    "            j += 1\n",
    "        elif l1[i] < l2[j]: #I move on only i, because I'm sure that if l2[j] is also in l1 it will be in a position further along\n",
    "            i += 1\n",
    "        else:\n",
    "            j += 1\n",
    "    return result\n"
   ]
  },
  {
   "cell_type": "code",
   "execution_count": 2,
   "metadata": {},
   "outputs": [
    {
     "name": "stdout",
     "output_type": "stream",
     "text": [
      "Done!\n"
     ]
    }
   ],
   "source": [
    "## Asserts  --> Lists to sort must be sorted in non-decreasing order\n",
    "assert set(intersection(sorted([3, 5, 1, 2,1]),sorted([1, 1, 6, 2]))) == set([1,2]), \"Urca\"\n",
    "assert intersection([1], []) == []\n",
    "print(\"Done!\")"
   ]
  },
  {
   "cell_type": "markdown",
   "metadata": {},
   "source": [
    "----\n",
    "### Exercise: You own search engine\n",
    "You are given a collection of texts and you want to build your own search engine, people at Google are already very scared!\n",
    "\n",
    "Modern search engines are based on a data structure called *Inverted Index*. \n",
    "\n",
    "Each document of the collection is assigned an identifier, starting from 0.\n",
    "An inverted index stores a list, called *inverted list*, for each term of the collection.\n",
    "The list for a term *t* contains the identifiers of all the documents containing term *t*. The list is sorted.\n",
    "\n",
    "For example,\n",
    "\n",
    "````\n",
    "C = [\"dog cat elephant monkey\",  \"dog lion tiger\", \"fish dog dog cat cow\"]\n",
    "\n",
    "````\n",
    "\n",
    "The list of term *cat* is [0,2], the list of *elephant* is [0].\n",
    "\n",
    "Given two terms, an AND query reports all the documents containing both terms. For example, \n",
    "*query(\"cat\", \"dog\"), the result is [0, 2].\n",
    "\n",
    "You goal is to implement a simple search engine. Do the following. \n",
    "\n",
    "- Given the collection, build a dictionary that maps each term to its inverted list. Observe that \n",
    "each document occurs at most once in each list. \n",
    "- Implement a function *query* which answers an AND query. "
   ]
  },
  {
   "cell_type": "code",
   "execution_count": 8,
   "metadata": {},
   "outputs": [],
   "source": [
    "def build_index(C):\n",
    "    index = {}\n",
    "    for i, words in enumerate(C):\n",
    "        doc_split = words.split() # I applied only this method assuming that strings were already well-formatted and each word in lower characters\n",
    "        for j in doc_split:\n",
    "            index[j] = index.get(j, []) + [i]\n",
    "    return index \n",
    "    \n",
    "    \n",
    "    # If I use the function build_index() inside query() I need to pass the collection. \n",
    "    # If I don't use build_index() inside query() I must pass the index\n",
    "\n",
    "def query(C, word_1, word_2):  \n",
    "    index = build_index(C) \n",
    "    positions_word_1 = index.get(word_1, 'No results') # Storing the value (a list) for the word_1\n",
    "    positions_word_2 = index.get(word_2, 'No results')\n",
    "    \n",
    "    # I used the function intersection() developed above. \n",
    "    # I could use \" list(set(positions_word_1) & (positions_word_2)) \" to get the same result \n",
    "    \n",
    "    return intersection(positions_word_1, positions_word_2)\n"
   ]
  },
  {
   "cell_type": "code",
   "execution_count": 6,
   "metadata": {},
   "outputs": [
    {
     "name": "stdout",
     "output_type": "stream",
     "text": [
      "Done!\n"
     ]
    }
   ],
   "source": [
    "## Asserts\n",
    "#C = [\"dog cat elephant monkey\",  \"dog lion tiger\", \"fish dog dog cat cow\"]\n",
    "#index = build_index(C)\n",
    "#assert query(index, \"tiger\", \"fish\") == [], \"Urca\"\n",
    "# Test case:\n",
    "collection_1 = [\"dog cat elephant monkey\", \"dog lion tiger\", \"fish dog dog cat cow\"]\n",
    "assert query(collection_1, \"cat\", \"dog\") == [0, 2]\n",
    "print(\"Done!\")"
   ]
  },
  {
   "cell_type": "markdown",
   "metadata": {},
   "source": [
    "----\n",
    "# Lecture 2\n",
    "---\n",
    "### Exercise: Binary Vector\n",
    "You are given a binary vector, i.e., each element is either 0 or 1. Implements an easy variant of partition to sort the vector.\n"
   ]
  },
  {
   "cell_type": "code",
   "execution_count": 12,
   "metadata": {},
   "outputs": [],
   "source": [
    "def partition(A):\n",
    "    # Since A is binary I omit the random pivot selection and I chose it to sort A in non-decreasing order.\n",
    "    pivot = min(A) # If I wanted to pursue a non-increasing order I could compute the max\n",
    "    i = -1\n",
    "    for j in range(len(A)):\n",
    "        if A[j] == pivot: # Another way to sort the list in non-increasing order could be to use the condition A[j]>pivot\n",
    "            i +=1 \n",
    "            A[i], A[j] = A[j], A[i] # After the swap the current element will be in the correct position.\n",
    "    return A\n",
    "    "
   ]
  },
  {
   "cell_type": "code",
   "execution_count": 13,
   "metadata": {},
   "outputs": [
    {
     "data": {
      "text/plain": [
       "[0, 0, 0, 0, 0, 0, 0, 0, 0, 0, 0, 0, 0, 1, 1, 1, 1, 1, 1, 1]"
      ]
     },
     "execution_count": 13,
     "metadata": {},
     "output_type": "execute_result"
    }
   ],
   "source": [
    "# Testing my implementation\n",
    "import random \n",
    "binary = [random.randint(0, 1) for _ in range(20)]\n",
    "partition(binary)"
   ]
  },
  {
   "cell_type": "markdown",
   "metadata": {},
   "source": [
    "\n",
    "---\n",
    "### Exercise: QuickSort\n",
    "Below an implementation of QuickSort. \n",
    "\n",
    "In this exercise you have to:\n",
    "- Write detailed comments to describe crucial parts of the code below (to prove you have understand it)\n",
    "- Implement a random selection of the pivot element"
   ]
  },
  {
   "cell_type": "code",
   "execution_count": 28,
   "metadata": {},
   "outputs": [],
   "source": [
    "def partition(A, low, high): # Function 3: It returns the pivot and sorts the current A\n",
    "    \n",
    "    ## Random selection of the pivot\n",
    "    rand_pivot_index = random.randint(low, high)  # Random INDEX chosen in the range from the 1st to the last element of the current A\n",
    "    pivot = A[rand_pivot_index]\n",
    "    A[rand_pivot_index], A[high] = A[high], A[rand_pivot_index]  # I put the pivot in the last position of A\n",
    "    \n",
    "    # pivot = A[high] # Hypotetical implementation without random pivot, at each recursion, the pivot would be the last element of A\n",
    "    \n",
    "    i = low-1\n",
    "    for j in range(low, high): # I exclude the last position because there's the pivot\n",
    "        if A[j] <= pivot: \n",
    "            i = i+1 \n",
    "            A[i], A[j] = A[j], A[i]  \n",
    "            \n",
    "    # After the loop I have the following order: elements < pivot; elements > pivot; the pivot\n",
    "            \n",
    "    A[i+1], A[high] = A[high], A[i+1] # I put the pivot in the correct position (after all the smaller elements and before the first greater one).\n",
    "    return i+1 # It returns the position of the pivot\n",
    "\n",
    "def quickSort_rec(A, low, high): # Function 2: Splits the current A\n",
    "    if low < high:\n",
    "        pi = partition(A, low, high) # It selects the pivot to divide the current list into two halves\n",
    "        # 1st recursive function and 2nd recursive function to split the array according to the pivot\n",
    "        quickSort_rec(A, low, pi-1) \n",
    "        quickSort_rec(A, pi+1, high)\n",
    "        \n",
    "def quickSort(B): # Function 1: \n",
    "    A = B[:] # Copying B to return a sorted copy of the original array \n",
    "    quickSort_rec(A, 0, len(A)-1) \n",
    "    return A\n",
    "    "
   ]
  },
  {
   "cell_type": "code",
   "execution_count": 29,
   "metadata": {},
   "outputs": [
    {
     "name": "stdout",
     "output_type": "stream",
     "text": [
      "Done!\n"
     ]
    }
   ],
   "source": [
    "## Asserts \n",
    "test = [random.randint(0, 100) for _ in range(10)]\n",
    "# Test case:\n",
    "assert quickSort([]) == []\n",
    "# Test case:\n",
    "assert quickSort(test) == sorted(test)\n",
    "print(\"Done!\")"
   ]
  },
  {
   "cell_type": "markdown",
   "metadata": {},
   "source": [
    "----\n",
    "### Exercise: Merge Sort\n",
    "Complete the implementation of Merge Sort by implementing function ```merge()```."
   ]
  },
  {
   "cell_type": "code",
   "execution_count": 30,
   "metadata": {},
   "outputs": [],
   "source": [
    "def merge(A, l, m, r): # Function 3: it combines two subarrays\n",
    "    left_A = A[l:m+1]\n",
    "    right_A = A[m+1:r+1]\n",
    "    i = 0 # used for left_A\n",
    "    j = 0 # used for right_A\n",
    "    k = l # used as an index for moving elements on the original array A \n",
    "    \n",
    "    while i < len(left_A) and j < len(right_A):\n",
    "        if left_A[i] < right_A[j]:\n",
    "            A[k] = left_A[i]\n",
    "            i += 1\n",
    "        else: \n",
    "            A[k] = right_A[j]\n",
    "            j += 1\n",
    "        k += 1\n",
    "        \n",
    "    # If not all the elements in left_A have been checked\n",
    "    while i < len(left_A): \n",
    "        A[k] = left_A[i]\n",
    "        i += 1\n",
    "        k += 1\n",
    "    \n",
    "    # If not all the elements in right_A have been checked\n",
    "    while j < len(right_A): \n",
    "        A[k] = right_A[j]\n",
    "        j += 1\n",
    "        k += 1\n",
    "    \n",
    "    return A\n",
    "\n",
    "def mergeSort_rec(A, l, r): # Function 2: Divide and conquere\n",
    "    if l < r: \n",
    "        m = (l+(r-1))//2  # Same as (l+r)//2, but avoids overflow for large l and h  # Computing m taking the floor\n",
    "        mergeSort_rec(A, l, m) # Dividing the left-hand side of the array recursivelly \n",
    "        mergeSort_rec(A, m + 1, r) \n",
    "        merge(A, l, m, r) \n",
    "        \n",
    "def mergeSort(B): # Function 1\n",
    "    A = B[:] # Copy the array just because we decided to return a sorted copy of the original array \n",
    "    mergeSort_rec(A, 0, len(A) - 1) \n",
    "    return A\n"
   ]
  },
  {
   "cell_type": "code",
   "execution_count": 31,
   "metadata": {},
   "outputs": [
    {
     "name": "stdout",
     "output_type": "stream",
     "text": [
      "Done!\n"
     ]
    }
   ],
   "source": [
    "## Asserts \n",
    "test = [random.randint(0, 100) for _ in range(10)]\n",
    "# Test case:\n",
    "assert mergeSort([]) == []\n",
    "# Test case:\n",
    "assert mergeSort(test) == sorted(test)\n",
    "print(\"Done!\")"
   ]
  },
  {
   "cell_type": "markdown",
   "metadata": {},
   "source": [
    "----\n",
    "# Lecture 3\n",
    "----\n",
    "### Exercise: Activity Selection Problem\n",
    "Activity selection problem is a problem in which a person has a list of works to do. \n",
    "\n",
    "Each of the activities has a starting time and ending time. \n",
    "\n",
    "We need to schedule the activities in such a way the person can complete a maximum number of activities. \n",
    "\n",
    "Since the timing of the activities  may overlap, so it might not be possible to complete all the activities and thus we need to schedule the activities in such a way that the maximum number of activities can be finished."
   ]
  },
  {
   "cell_type": "code",
   "execution_count": 32,
   "metadata": {},
   "outputs": [
    {
     "data": {
      "text/plain": [
       "[(1, 2), (2, 3), (3, 4)]"
      ]
     },
     "execution_count": 32,
     "metadata": {},
     "output_type": "execute_result"
    }
   ],
   "source": [
    "def activities_by_ending_time(l):\n",
    "    sorted_activities = sorted(l, key=lambda x: x[1]) # Sorts the activity in non-decreasing order based on teir ending-times \n",
    "    selected_activities = [sorted_activities[0]] # Since the list is sorted I insert the 1st element by default\n",
    "    \n",
    "    for activity in sorted_activities[1:]:\n",
    "        # Checking if the starting time of the current \"activity\" is >= to the end time of the last activity in \"selected_activities\"\n",
    "        if activity[0] >= selected_activities[-1][1]: \n",
    "            selected_activities.append(activity)\n",
    "    return selected_activities\n",
    "\n",
    "activities_by_ending_time([(0, 5), (1, 2), (2, 3), (3, 4)])"
   ]
  },
  {
   "cell_type": "markdown",
   "metadata": {},
   "source": [
    "----\n",
    "### Exercise: Fractional Knapsack Problem\n",
    "\n",
    "Your goal: Write a function fractional_knapsack(L,W) which takes a list L of pairs (value, weight) and the capacity  𝑊  and returns maximum possible value we can obtain by selecting items."
   ]
  },
  {
   "cell_type": "code",
   "execution_count": 72,
   "metadata": {},
   "outputs": [],
   "source": [
    "def fractional_knapsack(L,W):\n",
    "    knapsack = 0\n",
    "    L = sorted(L, key= lambda x: x[0]/x[1], reverse=True) # Sorting L in non-increasing order based on the ratio value/weight\n",
    "    i = 0\n",
    "    \n",
    "    while W > 0:\n",
    "        element = L[i] # Element is a pair (value, weight)\n",
    "        if W - element[1] > 0:\n",
    "            knapsack += element[0] \n",
    "            W -= element[1] # Computing the W still available \n",
    "            \n",
    "        # More interesting part \" W - element[] < 0\"; I cannot store the entire value, so I take a fraction.\n",
    "        else: \n",
    "            fraction = element[1]/W # I take a fraction of the weight: Weight of the element/Available weight. -- (E.g. 10/5 = 2) \n",
    "            W-= element[1]/fraction # I remove from the available weight only the weight for having W = 0. -- (E.g. 10/2 = 5)\n",
    "            knapsack += element[0]/fraction # I store the same fraction of the value -- (E.g. 50/2 = 25)\n",
    "        i += 1\n",
    "        \n",
    "    return knapsack"
   ]
  },
  {
   "cell_type": "code",
   "execution_count": 20,
   "metadata": {},
   "outputs": [
    {
     "name": "stdout",
     "output_type": "stream",
     "text": [
      "Done!\n"
     ]
    }
   ],
   "source": [
    "## Asserts\n",
    "L = [(60, 10), (100, 20), (120, 30)]\n",
    "assert fractional_knapsack(L, 50) == 240.0, \"Fail!\"\n",
    "# Test case:\n",
    "L = [(30, 5), (40, 10), (45, 15), (77, 22), (90, 25)]\n",
    "assert fractional_knapsack(L, 60) == 230.0, \"Fail!\"\n",
    "# Test case:\n",
    "assert fractional_knapsack(L, 15) == 70.0,  \"Fail!\"\n",
    "# Test case:\n",
    "assert fractional_knapsack(L, 10) == 50.0,  \"Fail!\"\n",
    "print(\"Done!\")"
   ]
  },
  {
   "cell_type": "markdown",
   "metadata": {},
   "source": [
    "----\n",
    "# Lecture 4\n",
    "\n",
    "----\n",
    "\n",
    "### Exercise: K-largest elements of a array\n",
    "\n",
    "We want to compute the K-largest elements of a array A. \n",
    "\n",
    "There are three possible algorithms to solve this problem:\n",
    "\n",
    "\n",
    "#### Algorithm 1: Sorting\n",
    "The easiest way to solve this is by sorting the array in decreasing order and reporting the first K elements. \n",
    "\n",
    "This algorithm costs $\\Theta(n\\log n)$ time. \n",
    "\n",
    "Implement this algorithm in a function ```k_largest_sort(A, K)```and test its correctness.\n",
    "\n",
    "#### Algorithm 2: QuickSelect\n",
    "Implement the QuickSelect algorithm and use it to find the K-largest element E in the array A. Then, scan A again \n",
    "to collect the K elements larger than or equal to E. Finally, sort the collected elements.\n",
    "\n",
    "This algorithm costs $\\Theta(n + K\\log K)$ time (in expectation). \n",
    "\n",
    "Implement this algorithm in a function ```k_largest_quickselect(A, K)```and test its correctness.\n",
    "\n",
    "\n",
    "#### Algorithm 3: Heap\n",
    "You have to implement the following faster algorithm as a function ```k_largest(A,K)```.\n",
    "- Scan the array from left to right and keep a min-heap. The min-heap will contain at most K elements.\n",
    "- Insert the current element into the heap, if the heap has less than K elements or the current element is larger than the minimum in the heap. If the heap has more than K elements, remove the minimum. \n",
    "- Sort the collected elements.\n",
    "\n",
    "This algorithm runs in $\\Theta(n\\log K)$ time.\n",
    "\n",
    "Implement this algorithm in a function ```k_largest_heap(A, K)```and test its correctness."
   ]
  },
  {
   "cell_type": "code",
   "execution_count": 15,
   "metadata": {},
   "outputs": [],
   "source": [
    "## Your implementations go here\n",
    "# Simplest implementation\n",
    "def k_largest_sort(A, K):\n",
    "    return sorted(A)[-K:]"
   ]
  },
  {
   "cell_type": "code",
   "execution_count": 14,
   "metadata": {},
   "outputs": [],
   "source": [
    "### Algorithm 2\n",
    "def partition(A, low, high):\n",
    "    \n",
    "    # I did not use the random implementation to select the pivot because it was slower.\n",
    "    # 7.55 ms ± 95.8 µs per loop (mean ± std. dev. of 7 runs, 100 loops each) -- not random \n",
    "    # 10.5 ms ± 181 µs per loop (mean ± std. dev. of 7 runs, 100 loops each) -- random\n",
    "    \n",
    "    pivot = A[high]\n",
    "    i = low - 1\n",
    "    for j in range(low, high):\n",
    "        if A[j] < pivot:\n",
    "            i += 1\n",
    "            A[i], A[j] = A[j], A[i]\n",
    "    A[i + 1], A[high] = A[high], A[i + 1]\n",
    "    return i + 1 # I return the current position of pi\n",
    "\n",
    "def quick_select(A, low, high, K):\n",
    "    if low <= high:\n",
    "        pi = partition(A, low, high)\n",
    "        if pi == K:\n",
    "            return A[pi] # It returns the kth_largest\n",
    "        elif pi < K:\n",
    "            return quick_select(A, pi + 1, high, K)\n",
    "        else:\n",
    "            return quick_select(A, low, pi - 1, K)\n",
    "\n",
    "def k_largest_quickselect(A, K):\n",
    "    # Computing the len and exploiting it to retrieve the kth_largest; I start to look for K-largest from l-k = result -- A[result:] == k_largests\n",
    "    l = len(A)-1 # If I calculate len(a) -1 works it is even faster and works well (False)\n",
    "    kth_largest = quick_select(A, 0, l - 1, l - K) # The function return the k_th largest element\n",
    "    k_largest_elements = [element for element in A if element >= kth_largest] # I scan A again and I check if element >= kht_largest_element \n",
    "    return sorted(k_largest_elements)"
   ]
  },
  {
   "cell_type": "code",
   "execution_count": 16,
   "metadata": {},
   "outputs": [],
   "source": [
    "### Algorithm 3 goes here\n",
    "def k_largest_heap(A, K):\n",
    "    H = []\n",
    "    for element in A:\n",
    "        # To mantain the len(H) at most == K I need to develop my own implementation of heap (NO I didn't)\n",
    "        if len(H) <= K or element > H[0]: # Even if the len(H) == K I heappush (insert) the current element into the heap\n",
    "            heapq.heappush(H, element)\n",
    "    # If the current element was greater than the smallest element on the heap, len(H) > K, so I remove the min.\n",
    "        if len(H) > K: \n",
    "            heapq.heappop(H)\n",
    "    return sorted(H)"
   ]
  },
  {
   "cell_type": "code",
   "execution_count": 17,
   "metadata": {},
   "outputs": [
    {
     "name": "stdout",
     "output_type": "stream",
     "text": [
      "Done!\n"
     ]
    }
   ],
   "source": [
    "### Asserts\n",
    "import heapq\n",
    "## generate an array of n random integers up to b\n",
    "def get_random_array(n, b = 50):\n",
    "    return [random.randint(0, b) for _ in range(n)]\n",
    "## test your implementation\n",
    "a = get_random_array(1000, 10000)\n",
    "assert sorted(k_largest_sort(a, 500)) == sorted(a)[-500:], \"FAIL!\"  \n",
    "assert sorted(k_largest_quickselect(a, 100)) == sorted(a)[-100:], \"FAIL!\"  \n",
    "assert sorted(k_largest_heap(a, 11)) == sorted(a)[-11:], \"FAIL!\"  \n",
    "assert sorted(k_largest_heap([], 11)) == [], \"FAIL!\"  \n",
    "print(\"Done!\")"
   ]
  },
  {
   "cell_type": "markdown",
   "metadata": {
    "slideshow": {
     "slide_type": "subslide"
    }
   },
   "source": [
    "---\n",
    "\n",
    "### Exercise: compute distinct elements\n",
    "You are given a list A of elements and you want to obtain the list of distict elements in A.\n",
    "\n",
    "There are two possible algorithms to do this:\n",
    "\n",
    "- Use ```list(set(A))```\n",
    "- Sort A and then scan. Implement this as a function ```distinct(A)``` \n",
    "\n",
    "Compare these two approaches by varying the size of the array and the number of distinct elements."
   ]
  },
  {
   "cell_type": "code",
   "execution_count": 11,
   "metadata": {},
   "outputs": [],
   "source": [
    "## Your implementation goes here\n",
    "def distinct(A):\n",
    "    A.sort()\n",
    "     # It allows me to iterate over the elements\n",
    "    A_distinct = [A[0]]\n",
    "    for element in A:\n",
    "        if element != A_distinct[-1]:\n",
    "            A_distinct.append(element)\n",
    "    return A_distinct"
   ]
  },
  {
   "cell_type": "code",
   "execution_count": 12,
   "metadata": {},
   "outputs": [
    {
     "data": {
      "text/plain": [
       "[1, 2, 3]"
      ]
     },
     "execution_count": 12,
     "metadata": {},
     "output_type": "execute_result"
    }
   ],
   "source": []
  },
  {
   "cell_type": "code",
   "execution_count": 2,
   "metadata": {},
   "outputs": [
    {
     "ename": "NameError",
     "evalue": "name 'get_random_array' is not defined",
     "output_type": "error",
     "traceback": [
      "\u001b[1;31m---------------------------------------------------------------------------\u001b[0m",
      "\u001b[1;31mNameError\u001b[0m                                 Traceback (most recent call last)",
      "Cell \u001b[1;32mIn[2], line 2\u001b[0m\n\u001b[0;32m      1\u001b[0m \u001b[38;5;66;03m## test your implementation\u001b[39;00m\n\u001b[1;32m----> 2\u001b[0m a \u001b[38;5;241m=\u001b[39m \u001b[43mget_random_array\u001b[49m(\u001b[38;5;241m15\u001b[39m)\n\u001b[0;32m      3\u001b[0m \u001b[38;5;28;01massert\u001b[39;00m distinct(a) \u001b[38;5;241m==\u001b[39m \u001b[38;5;28msorted\u001b[39m(\u001b[38;5;28mlist\u001b[39m(\u001b[38;5;28mset\u001b[39m(a))), \u001b[38;5;124m\"\u001b[39m\u001b[38;5;124mFAIL!\u001b[39m\u001b[38;5;124m\"\u001b[39m\n\u001b[0;32m      4\u001b[0m \u001b[38;5;28mprint\u001b[39m(\u001b[38;5;124m\"\u001b[39m\u001b[38;5;124mDone!\u001b[39m\u001b[38;5;124m\"\u001b[39m)\n",
      "\u001b[1;31mNameError\u001b[0m: name 'get_random_array' is not defined"
     ]
    }
   ],
   "source": [
    "## test your implementation\n",
    "a = get_random_array(15)\n",
    "assert distinct(a) == sorted(list(set(a))), \"FAIL!\"\n",
    "print(\"Done!\")"
   ]
  },
  {
   "cell_type": "markdown",
   "metadata": {},
   "source": [
    "---\n",
    "\n",
    "### Exercise: Pareto frontier of a set of points in 2-D space (aka Skyline problem)\n",
    "We are given a set $S$ of $n$ 2D points.\n",
    "A point $(x,y)$ dominates a point $(x',y')$ iff $𝑥'\\leq 𝑥$ and $y'\\leq 𝑦$. \n",
    "Our goal is to find the set $P$ of dominating points in $S$. \n",
    "This corresponds to find the Pareto frontier (or, equivalently, the skyline). \n",
    "\n",
    "The problem can be solved in $\\Theta(n\\log n)$ time.\n",
    "\n",
    "To find $P$ we need to sort points in $S$ by $x$ in descending order, \n",
    "and if $x$′𝑠 the same by $y$ in descending order. This takes $\\Theta(n\\log n)$ time. \n",
    "Then, we do the following.\n",
    "\n",
    "- Include first point in $P$ and remember this point as $𝑇$. \n",
    "- Iterates through the point (let $C$ current point):\n",
    "* if $C$ is dominated by $T$, then skip $C$ and go to next point;\n",
    "* Otherwise, include $C$ in $P$ and set $𝑇=𝐶$.\n",
    "\n",
    "This step can be performed in linear time.\n",
    "\n",
    "Implement the function ```pareto_frontier(S)```, which returns the pareto frontier $P$ of the points in $S$.\n"
   ]
  },
  {
   "cell_type": "code",
   "execution_count": 59,
   "metadata": {},
   "outputs": [],
   "source": [
    "## Your implementation goes here\n",
    "def pareto_frontier(S):\n",
    "    S_sorted = sorted(S, key = lambda x: (x[0], x[1]), reverse=True)\n",
    "    P = [S_sorted[0]] # First element appended by default\n",
    "    T = P[-1]\n",
    "\n",
    "    for C in S_sorted[1:]: \n",
    "        if not (C[0] <= T[0] and C[1] <= T[1]): # I could convert it in (A or B) -- I've considered the current version clearer\n",
    "            P.append(C) # If C is not dominated I include C in the set of not dominated\n",
    "            T = C \n",
    "    return sorted(P) # I return the list made up of not dominated points"
   ]
  },
  {
   "cell_type": "code",
   "execution_count": 60,
   "metadata": {},
   "outputs": [
    {
     "name": "stdout",
     "output_type": "stream",
     "text": [
      "Done!\n"
     ]
    }
   ],
   "source": [
    "## Test your implementation here\n",
    "S = [(6, 7.5), (7, 8), (8, 7), (2, 9), (3, 9.5), (1, 10), (4, 9), (5, 8)]\n",
    "assert pareto_frontier(S) == [(1, 10), (3, 9.5), (4, 9), (7, 8), (8, 7)], \"Fail!\"\n",
    "print(\"Done!\")"
   ]
  },
  {
   "cell_type": "markdown",
   "metadata": {},
   "source": [
    "----\n",
    "# Lecture 5\n",
    "----\n",
    "\n",
    "### Exercise: Open Addressing with linear probing\n",
    "Complete the implementation below by implementing ```Lookup```and ```Delete```."
   ]
  },
  {
   "cell_type": "code",
   "execution_count": 16,
   "metadata": {},
   "outputs": [],
   "source": [
    "## My implementation Lookup(), Delete()\n",
    "class linear_probing_set:\n",
    "    def __init__(self, size):\n",
    "        \n",
    "        self.T = [None]*size\n",
    "        self.prime = 993319\n",
    "        self.a = random.randint(2, self.prime-1)\n",
    "        self.b = random.randint(2, self.prime-1)\n",
    "        self.n_keys = 0\n",
    "    \n",
    "    def insert(self, key): # fix len(T) < self.n_keys if you want --> It never ends, because it cannot position all the items \n",
    "        if self.lookup(key):\n",
    "            return # If the key is already in the set the function exits\n",
    "        h = self.hash(key)\n",
    "        while self.T[h] != None and self.T[h] != 'D':\n",
    "            h += 1\n",
    "            if h == len(self.T):\n",
    "                h = 0\n",
    "        self.T[h] = key # T[h] == None or 'D' it replaces them with the key\n",
    "        self.n_keys += 1 # Improves by 1 the set of keys\n",
    "\n",
    "     \n",
    "    # Return True if key is in the set, False otherwise\n",
    "    def lookup(self, key):\n",
    "        h = self.hash(key) # I use the hash function to retrieve the index of the element\n",
    "        original_h = h  # I use it to check if the While's iterated over all the positions\n",
    "        while self.T[h] != None: # If the loop ends due to a \"None\" means that key is not present\n",
    "            if self.T[h] == key:\n",
    "                return True\n",
    "            else: \n",
    "                h+=1\n",
    "                if h == original_h: # Key is not present\n",
    "                    return False\n",
    "            if h == len(self.T): # Since I don't start from the beginning of T, when h reaches the max becomes 0 and restart\n",
    "                h = 0 \n",
    "        return False\n",
    "\n",
    "    # Delete the element associated with the key if the key exists \n",
    "    def delete(self, key):\n",
    "        if self.lookup(key): # I use the function above\n",
    "            h = self.hash(key)\n",
    "            while self.T[h] != key: # The loop must find the key because lookup is True\n",
    "                h += 1\n",
    "                if h == len(self.T):\n",
    "                    h = 0\n",
    "            self.T[h] = 'D'\n",
    "            self.n_keys -= 1\n",
    "        else: return False # Key is not in the list\n",
    "        \n",
    "    def hash(self, key):\n",
    "        return ((self.a*key + self.b) % self.prime) % len(self.T)\n",
    "    \n",
    "    def len(self):\n",
    "        return self.n_keys"
   ]
  },
  {
   "cell_type": "code",
   "execution_count": 26,
   "metadata": {},
   "outputs": [
    {
     "name": "stdout",
     "output_type": "stream",
     "text": [
      "Done!\n"
     ]
    }
   ],
   "source": [
    "## Test your implementation\n",
    "n = 10000\n",
    "\n",
    "a = get_random_array(n, n)\n",
    "\n",
    "queries = get_random_array(n, n)\n",
    "\n",
    "lp_set = linear_probing_set(2*n) # quadratic_probing_set()\n",
    "std_set = set()\n",
    "\n",
    "for key in a:\n",
    "    lp_set.insert(key)\n",
    "    std_set.add(key)\n",
    "\n",
    "assert len(std_set) == lp_set.len(), \"Fail len!\"     \n",
    "    \n",
    "for key in a:\n",
    "    assert lp_set.lookup(key) == True, \"Lookup fail a\"\n",
    "  \n",
    "for key in queries:\n",
    "    assert lp_set.lookup(key) == (key in std_set), \"Lookup fail queries\"\n",
    "    \n",
    "for key in a[:300]:\n",
    "    lp_set.delete(key)\n",
    "    try:\n",
    "        std_set.remove(key)\n",
    "    except:\n",
    "        pass # the key has been already removed\n",
    "          \n",
    "    assert lp_set.lookup(key) == (key in std_set), \"Lookup fail delete\"    \n",
    "\n",
    "print('Done!')"
   ]
  },
  {
   "cell_type": "code",
   "execution_count": 63,
   "metadata": {},
   "outputs": [],
   "source": [
    "                                        ####### Variant -- Open Addressing with quadratic probing #########\n",
    "class quadratic_probing_set:\n",
    "    def __init__(self,size):\n",
    "        \n",
    "        self.T = [None]*size\n",
    "        self.prime = 993319\n",
    "        self.a = random.randint(2, self.prime-1)\n",
    "        self.b = random.randint(2, self.prime-1)\n",
    "        self.n_keys = 0\n",
    "    \n",
    "    def insert(self, key): # fix len(T) < self.n_keys if you want\n",
    "        if self.lookup(key):\n",
    "            return # If the key is already in the set the function exits\n",
    "        h = self.hash(key)\n",
    "        iter = 0\n",
    "        while self.T[h] != None and self.T[h] != 'D':\n",
    "            iter += 1\n",
    "            h += iter**2 # Same step size is implemented in both function lookup() and insert()\n",
    "            if h == len(self.T):\n",
    "                h = 0\n",
    "        self.T[h] = key # T[h] == None or 'D' it replaces them with the key\n",
    "        self.n_keys += 1 # Improves by 1 the set of keys\n",
    "    \n",
    "    # Return True if key is in the set, False otherwise\n",
    "    def lookup(self, key):\n",
    "        h = self.hash(key)\n",
    "        original_h = h \n",
    "        iter = 0 \n",
    "        while self.T[h] != None:\n",
    "            if self.T[h] == key:\n",
    "                return True\n",
    "            else: \n",
    "                iter+=1\n",
    "                h+= iter**2 # The effect of quadratic probing emerges here\n",
    "                if h == original_h:\n",
    "                    return False\n",
    "            if h == len(self.T):\n",
    "                h = 0 \n",
    "        return False\n",
    "\n",
    "    # Delete the element associated with the key if the key exists \n",
    "    def delete(self, key):\n",
    "        if self.lookup(key):\n",
    "            h = self.hash(key)\n",
    "            iter = 0\n",
    "            while self.T[h] != key:\n",
    "                iter+=1\n",
    "                h+= iter**2 \n",
    "                if h == len(self.T):\n",
    "                    h = 0\n",
    "            self.T[h] = 'D'\n",
    "            self.n_keys -= 1\n",
    "        else: return False\n",
    "        \n",
    "    def hash(self, key):\n",
    "        return ((self.a*key + self.b) % self.prime) % len(self.T)\n",
    "    \n",
    "    def len(self):\n",
    "        return self.n_keys"
   ]
  },
  {
   "cell_type": "markdown",
   "metadata": {},
   "source": [
    "----\n",
    "### Exercise: Hashing with Chains\n",
    "Complete the implementation below by implementing ```Lookup``` and ```Delete```."
   ]
  },
  {
   "cell_type": "code",
   "execution_count": 28,
   "metadata": {},
   "outputs": [],
   "source": [
    "## My implementation Lookup(), Delete()\n",
    "class chaining_set:\n",
    "    def __init__(self, size):\n",
    "        \n",
    "        self.T = [] \n",
    "        for _ in range(size):\n",
    "            self.T.append([]) # Table T contains n[]\n",
    "        ## self.T = [ [] for _ in range(size)]\n",
    "        ## why not self.T = [ [] ] * size ?  Because this creates a list with n sublists referencing to the first sublist \n",
    "        \n",
    "        self.prime = 993319\n",
    "        self.a = random.randint(2, self.prime-1)\n",
    "        self.b = random.randint(2, self.prime-1)\n",
    "        self.n_keys = 0\n",
    "        \n",
    "    def insert(self, key):\n",
    "        if self.lookup(key):\n",
    "            return\n",
    "        h = self.hash(key)\n",
    "        self.T[h].append(key)\n",
    "        self.n_keys += 1\n",
    "    \n",
    "    # return True if key is in the set, False otherwise\n",
    "    def lookup(self, key):\n",
    "        h = self.hash(key) \n",
    "        if key in self.T[h]: return True # I only need to check if the key is present in the list at position h\n",
    "        else: return False \n",
    "    \n",
    "    def delete(self, key):\n",
    "        if self.lookup(key):\n",
    "            h = self.hash(key)\n",
    "            self.T[h].remove(key)\n",
    "            self.n_keys -=1 \n",
    "        else: \n",
    "            return False        \n",
    "            \n",
    "    def hash(self, key):\n",
    "        return ((self.a*key + self.b) % self.prime) % len(self.T)\n",
    "    \n",
    "    def len(self):\n",
    "        return self.n_keys"
   ]
  },
  {
   "cell_type": "code",
   "execution_count": 29,
   "metadata": {},
   "outputs": [
    {
     "name": "stdout",
     "output_type": "stream",
     "text": [
      "Done!\n"
     ]
    }
   ],
   "source": [
    "# Test your implementation\n",
    "n = 10000\n",
    "\n",
    "a = get_random_array(n, n)\n",
    "\n",
    "queries = get_random_array(n, n)\n",
    "\n",
    "c_set = chaining_set(2*n)\n",
    "std_set = set()\n",
    "\n",
    "for key in a:\n",
    "    c_set.insert(key)\n",
    "    std_set.add(key)\n",
    "\n",
    "assert len(std_set) == c_set.len(), \"Fail len!\"     \n",
    "    \n",
    "for key in a:\n",
    "    assert c_set.lookup(key) == True, \"Lookup fail a\"\n",
    "  \n",
    "for key in queries:\n",
    "    assert c_set.lookup(key) == (key in std_set), \"Lookup fail queries\"\n",
    "    \n",
    "for key in a[:300]:\n",
    "    c_set.delete(key)\n",
    "    try:\n",
    "        std_set.remove(key)\n",
    "    except:\n",
    "        pass # the key has been already removed\n",
    "          \n",
    "    assert c_set.lookup(key) == (key in std_set), \"Lookup fail delete\"  \n",
    "\n",
    "print(\"Done!\")"
   ]
  },
  {
   "cell_type": "markdown",
   "metadata": {},
   "source": [
    "----\n",
    "\n",
    "### Exercise: Dictionary\n",
    "Modify the previous code (i.e., Hashing with Chains) to implement a dictionary, i.e., store a value together with each key. \n",
    "You need to implement methods:\n",
    "- ```Insert(key, value)```: insert the key with its value. If the key was already present, change its value;\n",
    "- ```Delete(key)```: remove the key;\n",
    "- ```Lookup(key)```: return True if the key is present, False otherwise;\n",
    "- ```Value(key)```: return the value associated with the key. It returns None, if the key is not present.\n",
    "\n",
    "I suggest to store pairs (key, value) within the lists."
   ]
  },
  {
   "cell_type": "code",
   "execution_count": 30,
   "metadata": {},
   "outputs": [],
   "source": [
    "class chaining_set:\n",
    "    def __init__(self, size):\n",
    "        \n",
    "        self.T = []\n",
    "        for _ in range(size):\n",
    "            self.T.append([])\n",
    "        \n",
    "        self.prime = 993319\n",
    "        self.a = random.randint(2, self.prime-1)\n",
    "        self.b = random.randint(2, self.prime-1)\n",
    "        self.n_keys = 0\n",
    "\n",
    "    def __str__(self):\n",
    "        return str(self.T)\n",
    "        \n",
    "    # Defining insert function to insert pairs (key, value) if the key is not present, or to update the value if the key is already present\n",
    "    def insert(self, key, value):\n",
    "        if self.lookup(key): # It checks if the key exists\n",
    "            # Case 1: Key already exists\n",
    "            h = self.hash(key) # Finding the index of the key in the Table T\n",
    "            # In the same h may exist multiple pairs (key, value)\n",
    "            for element in self.T[h]: # It uses a naked loop because I'm interested in the index \n",
    "                if element[0] == key: # if the key of the tuple is == to the key it updates the value \n",
    "                    element = (key, value)\n",
    "                    break\n",
    "            # Case 2: Key doesn't exist in T\n",
    "        else:\n",
    "            h = self.hash(key)\n",
    "            self.T[h].append((key, value)) # It appends the key and the value in the right position\n",
    "            self.n_keys += 1 # Improving by 1 the number of keys\n",
    "    \n",
    "    # return True if key is in the set, False otherwise. Here we don't consider the value in any way\n",
    "    def lookup(self, key):\n",
    "        h = self.hash(key)\n",
    "        for element in self.T[h]:\n",
    "            if key == element[0]: \n",
    "                return True \n",
    "        return False\n",
    "        \n",
    "    # Removes a key if it exists. Since we are simulating a dictionary it's necessary to remove both the key and the value \n",
    "    def delete(self, key):\n",
    "        if self.lookup(key):\n",
    "            h = self.hash(key)\n",
    "            for element in self.T[h]:\n",
    "                if element[0] == key: # if the key of the tuple is == to the key it delete the pair\n",
    "                    self.T[h].remove(element) # Removing the pair \n",
    "                    self.n_keys -= 1 # Decreasing the number of keys by 1\n",
    "                    break      \n",
    "        else: \n",
    "            return False\n",
    "\n",
    "    # Retreaving the associated with the key\n",
    "    def value(self, key):\n",
    "        if self.lookup(key):\n",
    "            h = self.hash(key)\n",
    "            for element in self.T[h]: \n",
    "                if element[0] == key:\n",
    "                    return element[1] # Once the key is found it returns the value associated with\n",
    "                    break\n",
    "        else: None\n",
    "            \n",
    "# Optional methods: keys(), values(), items()\n",
    "    \n",
    "    # Keys returns all the keys in T\n",
    "    def keys(self):\n",
    "        for list in self.T: # Scanning every list in T -- O(|T|)\n",
    "            for key in list: # For each list return the first value in every tuple (key) -- O(|h|)\n",
    "                yield key[0]\n",
    "                \n",
    "    # Values returns all the values in T\n",
    "    def values(self):\n",
    "        for list in self.T: \n",
    "            for value in list: # For each list return the second value in every tuple (value)\n",
    "                yield value[1]\n",
    "\n",
    "    # Items returns all the pairs in T\n",
    "    def items(self):\n",
    "        for list in self.T: \n",
    "            for item in list: # Retrieving each pair presents in every list\n",
    "                yield item\n",
    "                \n",
    "    # It is used to return the position of the key in T \n",
    "    def hash(self, key):\n",
    "        return ((self.a*key + self.b) % self.prime) % len(self.T)\n",
    "    \n",
    "    def len(self):\n",
    "        return self.n_keys"
   ]
  },
  {
   "cell_type": "code",
   "execution_count": 31,
   "metadata": {},
   "outputs": [
    {
     "name": "stdout",
     "output_type": "stream",
     "text": [
      "Done!\n"
     ]
    }
   ],
   "source": [
    "#Asserts\n",
    "import random\n",
    "\n",
    "#Test lookup\n",
    "set_a= chaining_set(100)\n",
    "set_a.insert(5, 8)\n",
    "set_a.insert(3, 16)\n",
    "set_a.insert(2, 1)\n",
    "assert set_a.lookup(1) == False\n",
    "assert set_a.lookup(5) == True\n",
    "# Test delete & value\n",
    "set_a.insert(55, 10)\n",
    "set_a.delete(55)\n",
    "assert set_a.lookup(55) == False\n",
    "assert set_a.value(5) == 8\n",
    "## Asserts for optional methods\n",
    "# Test keys & values & items & len\n",
    "assert [key for key in set_a.keys()] == [2,3,5] or [5,3,2]\n",
    "assert [value for value in set_a.values()] == [1, 8, 16] or [16, 8, 1]\n",
    "assert [a for a in set_a.items()] == [(2, 1), (3, 16), (5, 8)] or [(5, 8), (3, 16),(2, 1)]\n",
    "assert set_a.len() == 3\n",
    "print(\"Done!\")"
   ]
  },
  {
   "cell_type": "markdown",
   "metadata": {},
   "source": [
    "---\n",
    "# Lecture 6\n",
    "\n",
    "--- \n",
    "### Exercise: Implements your own GroupBy\n",
    "\n",
    "In the rest of your life you are going to use GroupBy implemented in some library, but in this exercise we will implement our own simplified version. \n",
    "\n",
    "You are give a list of tuples, all with the same number of components. In our simplified implementation  of a pandas' DataFrame each tuple in the list is a row of the DataFrame. Each component of a tuple is a value of a column.\n",
    "\n",
    "#### Part I\n",
    "Our first goal is to implement an index to efficiently group by one of the component in the list. \n",
    "\n",
    "We'd like to implement a function ```groupBy(L, id)``` which takes the list of tuples ```L``` and the ```id``` of the component and returns a dictionary. The dictionary is an index very similar to what you implemented for a search engine. \n",
    "We have a key for each distinct value in column ```id```. The value of a certain key ```k``` is the list of indexes of all the tuple having value ```k``` in the column ```id```.\n",
    "This means that, if index ```p``` is in the list of key ```k```, then ```L[p][id] = k```.\n",
    "\n",
    "For example it we have tuples \n",
    "\n",
    "|   | \n",
    "|:-|\n",
    "(1, 5, 11)\n",
    "(0, 4, 1000)\n",
    "(1, 2, 11)\n",
    "(1, 4, 66) \n",
    "(0, 3, 99)\n",
    "\n",
    "The groupBy with id=0 will group by first column.\n",
    "\n",
    "The index is\n",
    "\n",
    "|   | \n",
    "|:--| \n",
    "0: [1, 4]\n",
    "1: [0, 2, 3]\n",
    " \n",
    "#### Part II\n",
    "We'd like to implement a function ```max_groupBy(index, L)``` which takes the index built in previous part on list ```L``` and returns a dictionary. \n",
    "We have a key for each distinct value in column ```id```. The value of a certain key ```k``` is the list. The list has a element for each column: the maximum value in that column for each tuple having value ```k``` in the column ```id```. This, of course, must be implemented by using the index.\n",
    "\n",
    "In the example before, we would obtain the dictionary\n",
    "\n",
    "|   | \n",
    "|:--| \n",
    "0: [0, 4, 1000]\n",
    "1: [1, 5, 66]\n",
    " \n"
   ]
  },
  {
   "cell_type": "code",
   "execution_count": 9,
   "metadata": {},
   "outputs": [],
   "source": [
    "## Your implementation goes here \n",
    "# Part I \n",
    "def groupBy(L, id):\n",
    "    if len(L) == 0: return\n",
    "    dic = {}\n",
    "    for index, element in enumerate(L):\n",
    "    # Creating a default dict {key:[index]}; I add a new key and its index or I append a new index to the list. \n",
    "        dic[element[id]] = dic.get(element[id], []) + [index] \n",
    "    return dic\n",
    "\n",
    "# Part II\n",
    "def max_groupBy(index, L):\n",
    "    \n",
    "    ## I could create the index here and instead of passing \"index\" I passed \"id\"\n",
    "    # index = groupBy(L, id)\n",
    "    dic = {}\n",
    "    for key, value in index.items(): \n",
    "        maximum = []  # It will be the value of each key in the new dict\n",
    "        for i in range(len(L[0])): \n",
    "            maximum_i = max(L[x][i] for x in value)  # I compute the maximum at index i for each tuple\n",
    "            maximum.append(maximum_i)\n",
    "        dic[key] = maximum # The new value is a list containing the max value of each column considering the tuples where k is present at index \"id\"\n",
    "    \n",
    "    return dict(sorted(dic.items()))"
   ]
  },
  {
   "cell_type": "code",
   "execution_count": 10,
   "metadata": {},
   "outputs": [
    {
     "name": "stdout",
     "output_type": "stream",
     "text": [
      "Done!\n"
     ]
    }
   ],
   "source": [
    "# Test case: \n",
    "data = [(1, 2, 3), (1, 5, 6), (1, 8, 9), (2, 11, 12), (2, 14, 15)]\n",
    "index = {1: [0, 1, 2], 2: [3, 4]}\n",
    "assert max_groupBy(index, data) == {1: [1, 8, 9], 2: [2, 14, 15]}\n",
    "\n",
    "#Test case:\n",
    "data_1 = [(1, 5, 11), (5, 4, 1000), (9, 2, 11), (1, 4, 66), (0, 3, 99)]\n",
    "index = groupBy(data_1, 0)\n",
    "assert max_groupBy(index, data_1) == {1: [1, 5, 66], 5:[5,4,1000], 9:[9,2,11], 0: [0, 3, 99]}\n",
    "\n",
    "print(\"Done!\")"
   ]
  },
  {
   "cell_type": "markdown",
   "metadata": {},
   "source": [
    "---\n",
    "# Lecture 7\n",
    "---\n",
    "### Exercise: Static sorted map\n",
    "Complete and test the implementation below. You have to use binary search to solve predecessor and successor queries on a sorted array."
   ]
  },
  {
   "cell_type": "code",
   "execution_count": 11,
   "metadata": {},
   "outputs": [],
   "source": [
    "class StaticSortedMap:\n",
    "    def __init__(self, A): # assume A is already sorted\n",
    "        self.sorted_map = A[:] # copy input array\n",
    "        \n",
    "    def min(self):\n",
    "        return self.sorted_map[0]\n",
    "    \n",
    "    def max(self):\n",
    "        return self.sorted_map[-1]\n",
    "        \n",
    "    def search(self, key): ## in our pseudocode BinarySearch(A, s, e, key)\n",
    "        def __binary_search(p, e, key):\n",
    "            if p > e: return (False, p) # The key is not present, return False and the hypothetical position of p\n",
    "            q = math.ceil((p+e)/2)\n",
    "            if self.sorted_map[q] == key: return (True, q) # It returns the position of the key in the array  \n",
    "            elif self.sorted_map[q] > key:\n",
    "                return __binary_search(p, q-1, key)\n",
    "            else:\n",
    "                return __binary_search(q+1, e, key)\n",
    "            \n",
    "        return __binary_search(0, len(self.sorted_map)-1, key)\n",
    "            \n",
    "        # TODO in __binary_search() function---:\n",
    "        # If the key is in the set, returns  True, p  where p is the position \n",
    "        # of the key in the array.\n",
    "        #\n",
    "        # If the key is not in the set, returns False, p where p is the position where \n",
    "        # the key should be inserted to keep the array sorted.\n",
    "        #\n",
    "        # Implements binary search!\n",
    "        \n",
    "    def predecessor(self, key):\n",
    "         # TODO: return position and value of predecessor. You may want to use search query to solve this one.\n",
    "        predecessor_index = self.search(key)[1]-1\n",
    "        if  predecessor_index == -1: # Since the min value returned is at index 0, if index == -1 there does not exist a predecessor for the min\n",
    "            return None, None\n",
    "        else:\n",
    "            return predecessor_index, self.sorted_map[predecessor_index] # it returns the index of the predecessor and its value\n",
    "            \n",
    "    def successor(self, key):\n",
    "        # TODO: return position and value of successor. You may want use search query to solve this one.\n",
    "        predecessor_index = self.search(key)[1]+1 \n",
    "        if  predecessor_index > len(self.sorted_map)-1:\n",
    "            return None, None\n",
    "        else:\n",
    "            return predecessor_index, self.sorted_map[predecessor_index]"
   ]
  },
  {
   "cell_type": "code",
   "execution_count": 12,
   "metadata": {},
   "outputs": [
    {
     "name": "stdout",
     "output_type": "stream",
     "text": [
      "Done!\n"
     ]
    }
   ],
   "source": [
    "import math\n",
    "A = [1, 3, 5.5, 7, 9]\n",
    "ssm = StaticSortedMap(A)\n",
    "# Test min()\n",
    "assert ssm.min() == 1\n",
    "# Test max()\n",
    "assert ssm.max() == 9\n",
    "# Test search()\n",
    "assert ssm.search(5.5) == (True, 2)\n",
    "# Test predecessor()\n",
    "assert ssm.predecessor(6) == (2, 5.5)\n",
    "# Test successor()\n",
    "assert ssm.successor(9) == (None, None)\n",
    "print('Done!')"
   ]
  },
  {
   "cell_type": "markdown",
   "metadata": {},
   "source": [
    "----\n",
    "### Exercise: Binary Search Tree\n",
    "Extend the previous implementation of Binary Search Trees to support **search(x)** operation. Test your implementation."
   ]
  },
  {
   "cell_type": "code",
   "execution_count": 13,
   "metadata": {},
   "outputs": [],
   "source": [
    "class BinarySearchTree:\n",
    "    # This is a Node class that is internal to the BinarySearchTree class\n",
    "    class __Node:\n",
    "        def __init__(self, val, left=None, right=None):\n",
    "            self.val = val\n",
    "            self.left = left\n",
    "            self.right = right\n",
    "            \n",
    "        def getVal(self): \n",
    "            return self.val\n",
    "\n",
    "        def setVal(self, newval): \n",
    "            self.val = newval\n",
    "            \n",
    "        def getLeft(self): \n",
    "            return self.left\n",
    "        \n",
    "        def getRight(self): \n",
    "            return self.right\n",
    "        \n",
    "        def setLeft(self, newleft): \n",
    "            self.left = newleft\n",
    "        \n",
    "        def setRight(self, newright): \n",
    "            self.right = newright\n",
    "            \n",
    "        # This method deserves a little explanation. It does an inorder traversal\n",
    "        # of the nodes of the tree yielding all the values. In this way, we get\n",
    "        # the values in ascending order.       \n",
    "        def __iter__(self):\n",
    "            if self.left != None:\n",
    "                for elem in self.left: \n",
    "                    yield elem\n",
    "            yield self.val\n",
    "            if self.right != None:\n",
    "                for elem in self.right:\n",
    "                    yield elem\n",
    "                    \n",
    "    # Below methods of the BinarySearchTree class.\n",
    "    def __init__(self): \n",
    "        self.root = None  # The tree is empty initially\n",
    "         \n",
    "    def insert(self, val): # 1st function\n",
    "        # The __insert function is recursive and is not a passed a self parameter. It is a \n",
    "        # static function (not a method of the class) but is hidden inside the insert\n",
    "        # function so users of the class will not know it exists.\n",
    "        def __insert(root, val): \n",
    "            if root == None:\n",
    "                return BinarySearchTree.__Node(val)\n",
    "            if val < root.getVal(): \n",
    "                root.setLeft( __insert(root.getLeft(), val) )\n",
    "            else: \n",
    "                root.setRight( __insert(root.getRight(), val) )\n",
    "            return root\n",
    "        \n",
    "        self.root = __insert(self.root, val)\n",
    "        \n",
    "    def search(self, val): # 2nd function \n",
    "        def __search(root, val):\n",
    "            if not root: \n",
    "                return False # Tree is empty, so the value is not in the tree\n",
    "            if val == root.getVal(): # Checking if the value is in the current root, if yes it returns true\n",
    "                return root.val\n",
    "            elif val < root.getVal(): # If the val is smaller than the value of the current node, if true get the left child of the node\n",
    "                return __search(root.getLeft(), val)\n",
    "            else: \n",
    "                return __search(root.getRight(), val) # If the val is greater than the value of the current node, if true get the right child of the node\n",
    "            \n",
    "        return __search(self.root, val) # search() return the result of the inner function __search()\n",
    "\n",
    "            \n",
    "    def min(self):\n",
    "        def __min(root):\n",
    "            if not root: \n",
    "                return float('inf')\n",
    "            mu = __min(root.getLeft())\n",
    "            if mu < root.getVal():\n",
    "                return mu\n",
    "            return root.getVal()\n",
    "        return __min(self.root)\n",
    "\n",
    "    def max(self):\n",
    "        def __max(root):\n",
    "            if not root: \n",
    "                return float('-inf')\n",
    "            mu = __max(root.right)\n",
    "            if mu> root.val:\n",
    "                return mu\n",
    "            return root.val\n",
    "        return __max(self.root)\n",
    "        "
   ]
  },
  {
   "cell_type": "code",
   "execution_count": 38,
   "metadata": {},
   "outputs": [
    {
     "name": "stdout",
     "output_type": "stream",
     "text": [
      "Done\n"
     ]
    }
   ],
   "source": [
    "# Asserts \n",
    "bst = BinarySearchTree()\n",
    "bst.insert(10)\n",
    "bst.insert(5)\n",
    "assert bst.search(10) == 10\n",
    "assert bst.search(5) == 5\n",
    "assert bst.min() == 5\n",
    "assert bst.max() == 10\n",
    "print('Done')"
   ]
  },
  {
   "cell_type": "markdown",
   "metadata": {},
   "source": [
    "---\n",
    "# Lecture 8\n",
    "---\n",
    "### Exercise: Strongly Connected Components\n",
    "The goal of this exercise is to implement the following algorithm to compute the strongly connected components of a directed graph $G$. [See here](https://www.hackerearth.com/practice/algorithms/graphs/strongly-connected-components/tutorial/). \n",
    "\n",
    "In a directed graph a component is strongly connected if there is a directed path from any vertex to every other vertex of the component. The problem asks to is to partition the graph into maximal strongly connected components.\n",
    "\n",
    "NetworkX provides a method to compute the strongly connected components of a graph [here](https://networkx.github.io/documentation/stable/reference/algorithms/generated/networkx.algorithms.components.strongly_connected_components.html#networkx.algorithms.components.strongly_connected_components). \n",
    "\n",
    "Your goal is to implement the Kosaraju's Linear time algorithm to find Strongly Connected Component. \n",
    "The algorithm is described [here](https://www.hackerearth.com/practice/algorithms/graphs/strongly-connected-components/tutorial).\n",
    "\n",
    "It works in three steps. \n",
    "\n",
    "- Do a DFS on the original graph, keeping track of the DFS finish times of each node. This can be done with a stack, when some  finishes put the source vertex on the stack. This way node with highest finishing time will be on top of the stack.\n",
    "- Reverse the original graph, i.e., if there is an edge $(u,v)$ in the original graph, add the edge $(v,u)$ in the reversed one.\n",
    "-  Do DFS on the reversed graph, with the source vertex as the vertex on top of the stack. When DFS finishes, all nodes visited will form one Strongly Connected Component. If any more nodes remain unvisited, this means there are more Strongly Connected Component's, so pop vertices from top of the stack until a valid unvisited node is found. This will have the highest finishing time of all currently unvisited nodes.\n",
    "\n",
    "Take a look at [DFS traversal documentation](https://networkx.github.io/documentation/stable/reference/algorithms/traversal.html#module-networkx.algorithms.traversal.depth_first_search).\n",
    "Note that the finishing time of a node can be inferred from its position in the DFS tree. "
   ]
  },
  {
   "cell_type": "code",
   "execution_count": 15,
   "metadata": {},
   "outputs": [],
   "source": [
    "## Your implementation here!!!"
   ]
  }
 ],
 "metadata": {
  "kernelspec": {
   "display_name": "Python 3 (ipykernel)",
   "language": "python",
   "name": "python3"
  },
  "language_info": {
   "codemirror_mode": {
    "name": "ipython",
    "version": 3
   },
   "file_extension": ".py",
   "mimetype": "text/x-python",
   "name": "python",
   "nbconvert_exporter": "python",
   "pygments_lexer": "ipython3",
   "version": "3.11.7"
  }
 },
 "nbformat": 4,
 "nbformat_minor": 4
}
